{
  "nbformat": 4,
  "nbformat_minor": 0,
  "metadata": {
    "colab": {
      "name": "BBC_text_multiclass-classification.ipynb",
      "provenance": [],
      "collapsed_sections": [],
      "include_colab_link": true
    },
    "kernelspec": {
      "name": "python3",
      "display_name": "Python 3"
    },
    "accelerator": "GPU"
  },
  "cells": [
    {
      "cell_type": "markdown",
      "metadata": {
        "id": "view-in-github",
        "colab_type": "text"
      },
      "source": [
        "<a href=\"https://colab.research.google.com/github/kb10241024/Text_Classifiers/blob/master/MultiClass/BBC/BBC_text_multiclass_classification.ipynb\" target=\"_parent\"><img src=\"https://colab.research.google.com/assets/colab-badge.svg\" alt=\"Open In Colab\"/></a>"
      ]
    },
    {
      "cell_type": "code",
      "metadata": {
        "id": "gnwiOnGyW5JK",
        "colab_type": "code",
        "outputId": "6ff3a37e-9596-4e95-b721-b8aa0702a28a",
        "colab": {
          "base_uri": "https://localhost:8080/",
          "height": 262
        }
      },
      "source": [
        "import csv\n",
        "import tensorflow as tf\n",
        "import numpy as np\n",
        "from tensorflow.keras.preprocessing.text import Tokenizer\n",
        "from tensorflow.keras.preprocessing.sequence import pad_sequences\n",
        "\n",
        "!wget --no-check-certificate \\\n",
        "    https://storage.googleapis.com/laurencemoroney-blog.appspot.com/bbc-text.csv \\\n",
        "    -O /tmp/bbc-text.csv"
      ],
      "execution_count": 1,
      "outputs": [
        {
          "output_type": "display_data",
          "data": {
            "text/html": [
              "<p style=\"color: red;\">\n",
              "The default version of TensorFlow in Colab will soon switch to TensorFlow 2.x.<br>\n",
              "We recommend you <a href=\"https://www.tensorflow.org/guide/migrate\" target=\"_blank\">upgrade</a> now \n",
              "or ensure your notebook will continue to use TensorFlow 1.x via the <code>%tensorflow_version 1.x</code> magic:\n",
              "<a href=\"https://colab.research.google.com/notebooks/tensorflow_version.ipynb\" target=\"_blank\">more info</a>.</p>\n"
            ],
            "text/plain": [
              "<IPython.core.display.HTML object>"
            ]
          },
          "metadata": {
            "tags": []
          }
        },
        {
          "output_type": "stream",
          "text": [
            "--2019-12-13 06:38:00--  https://storage.googleapis.com/laurencemoroney-blog.appspot.com/bbc-text.csv\n",
            "Resolving storage.googleapis.com (storage.googleapis.com)... 172.217.14.112, 2607:f8b0:4007:804::2010\n",
            "Connecting to storage.googleapis.com (storage.googleapis.com)|172.217.14.112|:443... connected.\n",
            "HTTP request sent, awaiting response... 200 OK\n",
            "Length: 5057493 (4.8M) [application/octet-stream]\n",
            "Saving to: ‘/tmp/bbc-text.csv’\n",
            "\n",
            "/tmp/bbc-text.csv   100%[===================>]   4.82M  9.70MB/s    in 0.5s    \n",
            "\n",
            "2019-12-13 06:38:07 (9.70 MB/s) - ‘/tmp/bbc-text.csv’ saved [5057493/5057493]\n",
            "\n"
          ],
          "name": "stdout"
        }
      ]
    },
    {
      "cell_type": "code",
      "metadata": {
        "id": "iU1qq3_SZBx_",
        "colab_type": "code",
        "outputId": "1ced5e10-7442-4b90-de19-fc4e3ff6ba0a",
        "colab": {
          "base_uri": "https://localhost:8080/",
          "height": 35
        }
      },
      "source": [
        "sentences = []\n",
        "labels = []\n",
        "stopwords = [ \"a\", \"about\", \"above\", \"after\", \"again\", \"against\", \"all\", \"am\", \"an\", \"and\", \"any\", \"are\", \"as\", \"at\", \"be\", \"because\", \"been\", \"before\", \"being\", \"below\", \"between\", \"both\", \"but\", \"by\", \"could\", \"did\", \"do\", \"does\", \"doing\", \"down\", \"during\", \"each\", \"few\", \"for\", \"from\", \"further\", \"had\", \"has\", \"have\", \"having\", \"he\", \"he'd\", \"he'll\", \"he's\", \"her\", \"here\", \"here's\", \"hers\", \"herself\", \"him\", \"himself\", \"his\", \"how\", \"how's\", \"i\", \"i'd\", \"i'll\", \"i'm\", \"i've\", \"if\", \"in\", \"into\", \"is\", \"it\", \"it's\", \"its\", \"itself\", \"let's\", \"me\", \"more\", \"most\", \"my\", \"myself\", \"nor\", \"of\", \"on\", \"once\", \"only\", \"or\", \"other\", \"ought\", \"our\", \"ours\", \"ourselves\", \"out\", \"over\", \"own\", \"same\", \"she\", \"she'd\", \"she'll\", \"she's\", \"should\", \"so\", \"some\", \"such\", \"than\", \"that\", \"that's\", \"the\", \"their\", \"theirs\", \"them\", \"themselves\", \"then\", \"there\", \"there's\", \"these\", \"they\", \"they'd\", \"they'll\", \"they're\", \"they've\", \"this\", \"those\", \"through\", \"to\", \"too\", \"under\", \"until\", \"up\", \"very\", \"was\", \"we\", \"we'd\", \"we'll\", \"we're\", \"we've\", \"were\", \"what\", \"what's\", \"when\", \"when's\", \"where\", \"where's\", \"which\", \"while\", \"who\", \"who's\", \"whom\", \"why\", \"why's\", \"with\", \"would\", \"you\", \"you'd\", \"you'll\", \"you're\", \"you've\", \"your\", \"yours\", \"yourself\", \"yourselves\" ]\n",
        "print(len(stopwords))\n",
        "# Expected Output\n",
        "# 153"
      ],
      "execution_count": 21,
      "outputs": [
        {
          "output_type": "stream",
          "text": [
            "153\n"
          ],
          "name": "stdout"
        }
      ]
    },
    {
      "cell_type": "code",
      "metadata": {
        "id": "eutB2xMiZD0e",
        "colab_type": "code",
        "outputId": "15ffa82c-1e8c-45fb-8c6e-430d30e55878",
        "colab": {
          "base_uri": "https://localhost:8080/",
          "height": 91
        }
      },
      "source": [
        "with open(\"/tmp/bbc-text.csv\", 'r') as csvfile:\n",
        "    reader = csv.reader(csvfile, delimiter=',')\n",
        "    next(reader)\n",
        "    for row in reader:\n",
        "        labels.append(row[0])\n",
        "        sentence = row[1]\n",
        "        for word in stopwords:\n",
        "            token = \" \" + word + \" \"\n",
        "            sentence = sentence.replace(token, \" \")\n",
        "        sentences.append(sentence)\n",
        "\n",
        "print(len(labels))\n",
        "print(len(sentences))\n",
        "print(sentences[0])\n",
        "# Expected Output\n",
        "# 2225\n",
        "# 2225\n",
        "# tv future hands viewers home theatre systems  plasma high-definition tvs  digital video recorders moving living room  way people watch tv will radically different five years  time.  according expert panel gathered annual consumer electronics show las vegas discuss new technologies will impact one favourite pastimes. us leading trend  programmes content will delivered viewers via home networks  cable  satellite  telecoms companies  broadband service providers front rooms portable devices.  one talked-about technologies ces digital personal video recorders (dvr pvr). set-top boxes  like us s tivo uk s sky+ system  allow people record  store  play  pause forward wind tv programmes want.  essentially  technology allows much personalised tv. also built-in high-definition tv sets  big business japan us  slower take off europe lack high-definition programming. not can people forward wind adverts  can also forget abiding network channel schedules  putting together a-la-carte entertainment. us networks cable satellite companies worried means terms advertising revenues well  brand identity  viewer loyalty channels. although us leads technology moment  also concern raised europe  particularly growing uptake services like sky+.  happens today  will see nine months years  time uk   adam hume  bbc broadcast s futurologist told bbc news website. likes bbc  no issues lost advertising revenue yet. pressing issue moment commercial uk broadcasters  brand loyalty important everyone.  will talking content brands rather network brands   said tim hanlon  brand communications firm starcom mediavest.  reality broadband connections  anybody can producer content.  added:  challenge now hard promote programme much choice.   means  said stacey jolna  senior vice president tv guide tv group  way people find content want watch simplified tv viewers. means networks  us terms  channels take leaf google s book search engine future  instead scheduler help people find want watch. kind channel model might work younger ipod generation used taking control gadgets play them. might not suit everyone  panel recognised. older generations comfortable familiar schedules channel brands know getting. perhaps not want much choice put hands  mr hanlon suggested.  end  kids just diapers pushing buttons already - everything possible available   said mr hanlon.  ultimately  consumer will tell market want.   50 000 new gadgets technologies showcased ces  many enhancing tv-watching experience. high-definition tv sets everywhere many new models lcd (liquid crystal display) tvs launched dvr capability built  instead external boxes. one example launched show humax s 26-inch lcd tv 80-hour tivo dvr dvd recorder. one us s biggest satellite tv companies  directtv  even launched branded dvr show 100-hours recording capability  instant replay  search function. set can pause rewind tv 90 hours. microsoft chief bill gates announced pre-show keynote speech partnership tivo  called tivotogo  means people can play recorded programmes windows pcs mobile devices. reflect increasing trend freeing multimedia people can watch want  want."
      ],
      "execution_count": 22,
      "outputs": [
        {
          "output_type": "stream",
          "text": [
            "2225\n",
            "2225\n",
            "tv future hands viewers home theatre systems  plasma high-definition tvs  digital video recorders moving living room  way people watch tv will radically different five years  time.  according expert panel gathered annual consumer electronics show las vegas discuss new technologies will impact one favourite pastimes. us leading trend  programmes content will delivered viewers via home networks  cable  satellite  telecoms companies  broadband service providers front rooms portable devices.  one talked-about technologies ces digital personal video recorders (dvr pvr). set-top boxes  like us s tivo uk s sky+ system  allow people record  store  play  pause forward wind tv programmes want.  essentially  technology allows much personalised tv. also built-in high-definition tv sets  big business japan us  slower take off europe lack high-definition programming. not can people forward wind adverts  can also forget abiding network channel schedules  putting together a-la-carte entertainment. us networks cable satellite companies worried means terms advertising revenues well  brand identity  viewer loyalty channels. although us leads technology moment  also concern raised europe  particularly growing uptake services like sky+.  happens today  will see nine months years  time uk   adam hume  bbc broadcast s futurologist told bbc news website. likes bbc  no issues lost advertising revenue yet. pressing issue moment commercial uk broadcasters  brand loyalty important everyone.  will talking content brands rather network brands   said tim hanlon  brand communications firm starcom mediavest.  reality broadband connections  anybody can producer content.  added:  challenge now hard promote programme much choice.   means  said stacey jolna  senior vice president tv guide tv group  way people find content want watch simplified tv viewers. means networks  us terms  channels take leaf google s book search engine future  instead scheduler help people find want watch. kind channel model might work younger ipod generation used taking control gadgets play them. might not suit everyone  panel recognised. older generations comfortable familiar schedules channel brands know getting. perhaps not want much choice put hands  mr hanlon suggested.  end  kids just diapers pushing buttons already - everything possible available   said mr hanlon.  ultimately  consumer will tell market want.   50 000 new gadgets technologies showcased ces  many enhancing tv-watching experience. high-definition tv sets everywhere many new models lcd (liquid crystal display) tvs launched dvr capability built  instead external boxes. one example launched show humax s 26-inch lcd tv 80-hour tivo dvr dvd recorder. one us s biggest satellite tv companies  directtv  even launched branded dvr show 100-hours recording capability  instant replay  search function. set can pause rewind tv 90 hours. microsoft chief bill gates announced pre-show keynote speech partnership tivo  called tivotogo  means people can play recorded programmes windows pcs mobile devices. reflect increasing trend freeing multimedia people can watch want  want.\n"
          ],
          "name": "stdout"
        }
      ]
    },
    {
      "cell_type": "code",
      "metadata": {
        "id": "XfdaWh06ZGe3",
        "colab_type": "code",
        "outputId": "028c9956-2124-4917-ffce-8d2a529e400f",
        "colab": {
          "base_uri": "https://localhost:8080/",
          "height": 107
        }
      },
      "source": [
        "training_portion = .8\n",
        "train_size = int(len(sentences) * training_portion)\n",
        "\n",
        "train_sentences = sentences[:train_size]\n",
        "train_labels = labels[:train_size]\n",
        "\n",
        "validation_sentences = sentences[train_size:]\n",
        "validation_labels = labels[train_size:]\n",
        "\n",
        "print(train_size)\n",
        "print(len(train_sentences))\n",
        "print(len(train_labels))\n",
        "print(len(validation_sentences))\n",
        "print(len(validation_labels))\n",
        "\n",
        "# Expected output (if training_portion=.8)\n",
        "# 1780\n",
        "# 1780\n",
        "# 1780\n",
        "# 445\n",
        "# 445"
      ],
      "execution_count": 23,
      "outputs": [
        {
          "output_type": "stream",
          "text": [
            "1780\n",
            "1780\n",
            "1780\n",
            "445\n",
            "445\n"
          ],
          "name": "stdout"
        }
      ]
    },
    {
      "cell_type": "code",
      "metadata": {
        "id": "ULzA8xhwZI22",
        "colab_type": "code",
        "colab": {}
      },
      "source": [
        "vocab_size = 1000\n",
        "oov_tok = \"<OOV>\"\n",
        "\n",
        "tokenizer = Tokenizer(num_words = vocab_size, oov_token=oov_tok)\n",
        "tokenizer.fit_on_texts(train_sentences)\n",
        "word_index = tokenizer.word_index\n",
        "\n",
        "train_sequences = tokenizer.texts_to_sequences(train_sentences)\n",
        "validation_sequences = tokenizer.texts_to_sequences(validation_sentences)"
      ],
      "execution_count": 0,
      "outputs": []
    },
    {
      "cell_type": "code",
      "metadata": {
        "id": "ouc7zGUbEUuS",
        "colab_type": "code",
        "colab": {
          "base_uri": "https://localhost:8080/",
          "height": 125
        },
        "outputId": "f06eccea-cd9f-4ce8-aab2-11b2e9db9256"
      },
      "source": [
        "training_seq_lengths=[len(x) for x in train_sequences]\n",
        "validation_seq_lengths=[len(x) for x in validation_sequences]\n",
        "\n",
        "print(\"Minimum training length : {}\\nMaximum Training Length : {}\\nAverage training length : {}\".format(min(training_seq_lengths),max(training_seq_lengths),sum(training_seq_lengths)//len(training_seq_lengths)))\n",
        "print(\"Minimum validation length : {}\\nMaximum validation Length : {}\\nAverage validation length : {}\".format(min(validation_seq_lengths),max(validation_seq_lengths),sum(validation_seq_lengths)//len(validation_seq_lengths)))"
      ],
      "execution_count": 25,
      "outputs": [
        {
          "output_type": "stream",
          "text": [
            "Minimum training length : 53\n",
            "Maximum Training Length : 2441\n",
            "Average training length : 241\n",
            "Minimum validation length : 80\n",
            "Maximum validation Length : 880\n",
            "Average validation length : 230\n"
          ],
          "name": "stdout"
        }
      ]
    },
    {
      "cell_type": "code",
      "metadata": {
        "id": "c8PeFWzPZLW_",
        "colab_type": "code",
        "colab": {}
      },
      "source": [
        "max_length = 250\n",
        "trunc_type='post'\n",
        "padding_type='pre'\n",
        "\n",
        "train_padded = pad_sequences(train_sequences, padding=padding_type, truncating=trunc_type,maxlen=max_length)\n",
        "validation_padded = pad_sequences(validation_sequences, padding=padding_type, truncating=trunc_type,maxlen=max_length)"
      ],
      "execution_count": 0,
      "outputs": []
    },
    {
      "cell_type": "code",
      "metadata": {
        "id": "XkWiQ_FKZNp2",
        "colab_type": "code",
        "outputId": "e009437d-93ec-4b98-ee7a-8d5c82c13056",
        "colab": {
          "base_uri": "https://localhost:8080/",
          "height": 71
        }
      },
      "source": [
        "label_tokenizer = Tokenizer()\n",
        "label_tokenizer.fit_on_texts(labels)\n",
        "label_word_index=label_tokenizer.word_index\n",
        "\n",
        "training_label_seq = np.array(label_tokenizer.texts_to_sequences(train_labels))\n",
        "validation_label_seq = np.array(label_tokenizer.texts_to_sequences(validation_labels))\n",
        "\n",
        "print(training_label_seq.shape)\n",
        "\n",
        "print(validation_label_seq.shape)\n",
        "\n",
        "print(label_word_index)\n",
        "\n",
        "# Expected output\n",
        "# (1780, 1)\n",
        "# (445, 1)\n",
        "# {'sport': 1, 'business': 2, 'politics': 3, 'tech': 4, 'entertainment': 5}"
      ],
      "execution_count": 27,
      "outputs": [
        {
          "output_type": "stream",
          "text": [
            "(1780, 1)\n",
            "(445, 1)\n",
            "{'sport': 1, 'business': 2, 'politics': 3, 'tech': 4, 'entertainment': 5}\n"
          ],
          "name": "stdout"
        }
      ]
    },
    {
      "cell_type": "code",
      "metadata": {
        "id": "HZ5um4MWZP-W",
        "colab_type": "code",
        "outputId": "5a4e59a0-5889-475c-c522-6fe5bd7e0d9d",
        "colab": {
          "base_uri": "https://localhost:8080/",
          "height": 341
        }
      },
      "source": [
        "embedding_dim = 16\n",
        "\n",
        "# Model Definition with GlobalAveragePooling1D or Flatten\n",
        "# model = tf.keras.Sequential([\n",
        "#     tf.keras.layers.Embedding(vocab_size, embedding_dim, input_length=max_length),\n",
        "#     # tf.keras.layers.GlobalAveragePooling1D(),\n",
        "#     tf.keras.layers.Flatten(),\n",
        "#     tf.keras.layers.Dense(24, activation='relu'),\n",
        "#     tf.keras.layers.Dense(6, activation='softmax')\n",
        "# ])\n",
        "\n",
        "# Layer (type)                 Output Shape              Param #   \n",
        "# =================================================================\n",
        "# embedding_5 (Embedding)      (None, 250, 16)           16000     \n",
        "# _________________________________________________________________\n",
        "# flatten_1 (Flatten)          (None, 4000)              0       \n",
        "# /global_average_pooling1d_3 ( (None, 16)                0 \n",
        "# _________________________________________________________________\n",
        "# dense_10 (Dense)             (None, 24)                96024/408    \n",
        "# _________________________________________________________________\n",
        "# dense_11 (Dense)             (None, 6)                 150       \n",
        "# =================================================================\n",
        "# Total params: 112,174/16,558\n",
        "# Trainable params: 112,174/16,558\n",
        "# Non-trainable params: 0\n",
        "#\n",
        "# Results after 30 epochs with Flatten\n",
        "# Epoch 30/30\n",
        "# 1780/1780 - 0s - loss: 5.5861e-04 - acc: 1.0000 - val_loss: 0.1487 - val_acc: 0.9596\n",
        "# Results after 30 epochs with GlobalAveragePooling1D\n",
        "# Epoch 30/30\n",
        "# 1780/1780 - 0s - loss: 0.0442 - acc: 0.9972 - val_loss: 0.1378 - val_acc: 0.9685\n",
        "\n",
        "# Model Definition with Conv1D\n",
        "model = tf.keras.Sequential([\n",
        "    tf.keras.layers.Embedding(vocab_size, embedding_dim, input_length=max_length),\n",
        "    tf.keras.layers.Conv1D(128, 5, activation='relu'),\n",
        "    tf.keras.layers.GlobalAveragePooling1D(),\n",
        "    tf.keras.layers.Dense(24, activation='relu'),\n",
        "    tf.keras.layers.Dense(6, activation='softmax')\n",
        "])\n",
        "\n",
        "# Layer (type)                 Output Shape              Param #   \n",
        "# =================================================================\n",
        "# embedding_21 (Embedding)     (None, 250, 16)           16000     \n",
        "# _________________________________________________________________\n",
        "# conv1d_3 (Conv1D)            (None, 246, 128)          10368     \n",
        "# _________________________________________________________________\n",
        "# global_average_pooling1d_8 ( (None, 128)               0         \n",
        "# _________________________________________________________________\n",
        "# dense_40 (Dense)             (None, 24)                3096      \n",
        "# _________________________________________________________________\n",
        "# dense_41 (Dense)             (None, 6)                 150       \n",
        "# =================================================================\n",
        "# Total params: 29,614\n",
        "# Trainable params: 29,614\n",
        "# Non-trainable params: 0\n",
        "#\n",
        "# Results after 30 epochs with Conv1D\n",
        "# Epoch 30/30\n",
        "# 1780/1780 [==============================] - 0s 131us/sample - loss: 0.0099 - acc: 0.9994 - val_loss: 0.4680 - val_acc: 0.9056\n",
        "\n",
        "# Model Definition with LSTM\n",
        "# model = tf.keras.Sequential([\n",
        "#     tf.keras.layers.Embedding(vocab_size, embedding_dim, input_length=max_length),\n",
        "#     tf.keras.layers.Bidirectional(tf.keras.layers.LSTM(16)),\n",
        "#     tf.keras.layers.Dense(24, activation='relu'),\n",
        "#     tf.keras.layers.Dense(6, activation='softmax')\n",
        "# ])\n",
        "\n",
        "# _________________________________________________________________\n",
        "# Layer (type)                 Output Shape              Param #   \n",
        "# =================================================================\n",
        "# embedding_20 (Embedding)     (None, 250, 16)           16000     \n",
        "# _________________________________________________________________\n",
        "# bidirectional_6 (Bidirection (None, 32)                4224      \n",
        "# _________________________________________________________________\n",
        "# dense_38 (Dense)             (None, 24)                792       \n",
        "# _________________________________________________________________\n",
        "# dense_39 (Dense)             (None, 6)                 150       \n",
        "# =================================================================\n",
        "# Total params: 21,166\n",
        "# Trainable params: 21,166\n",
        "# Non-trainable params: 0\n",
        "#\n",
        "# Results with LSTM after 30 epochs\n",
        "# Epoch 30/30\n",
        "# 1780/1780 [==============================] - 40s 23ms/sample - loss: 0.3291 - acc: 0.8837 - val_loss: 0.5604 - val_acc: 0.8337\n",
        "\n",
        "model.compile(loss='sparse_categorical_crossentropy',optimizer='adam',metrics=['accuracy'])\n",
        "model.summary()"
      ],
      "execution_count": 65,
      "outputs": [
        {
          "output_type": "stream",
          "text": [
            "Model: \"sequential_20\"\n",
            "_________________________________________________________________\n",
            "Layer (type)                 Output Shape              Param #   \n",
            "=================================================================\n",
            "embedding_21 (Embedding)     (None, 250, 16)           16000     \n",
            "_________________________________________________________________\n",
            "conv1d_3 (Conv1D)            (None, 246, 128)          10368     \n",
            "_________________________________________________________________\n",
            "global_average_pooling1d_8 ( (None, 128)               0         \n",
            "_________________________________________________________________\n",
            "dense_40 (Dense)             (None, 24)                3096      \n",
            "_________________________________________________________________\n",
            "dense_41 (Dense)             (None, 6)                 150       \n",
            "=================================================================\n",
            "Total params: 29,614\n",
            "Trainable params: 29,614\n",
            "Non-trainable params: 0\n",
            "_________________________________________________________________\n"
          ],
          "name": "stdout"
        }
      ]
    },
    {
      "cell_type": "code",
      "metadata": {
        "id": "XsfdxySKZSXu",
        "colab_type": "code",
        "outputId": "5254a5c0-f9db-48bb-df06-f744325e73ef",
        "colab": {
          "base_uri": "https://localhost:8080/",
          "height": 1000
        }
      },
      "source": [
        "num_epochs = 30\n",
        "history = model.fit(train_padded, training_label_seq, epochs=num_epochs, validation_data=(validation_padded, validation_label_seq), verbose=1)"
      ],
      "execution_count": 66,
      "outputs": [
        {
          "output_type": "stream",
          "text": [
            "Train on 1780 samples, validate on 445 samples\n",
            "Epoch 1/30\n",
            "1780/1780 [==============================] - 1s 743us/sample - loss: 1.7096 - acc: 0.2292 - val_loss: 1.5792 - val_acc: 0.2854\n",
            "Epoch 2/30\n",
            "1780/1780 [==============================] - 0s 140us/sample - loss: 1.4424 - acc: 0.3511 - val_loss: 1.2938 - val_acc: 0.3775\n",
            "Epoch 3/30\n",
            "1780/1780 [==============================] - 0s 144us/sample - loss: 1.1374 - acc: 0.4674 - val_loss: 1.0194 - val_acc: 0.5663\n",
            "Epoch 4/30\n",
            "1780/1780 [==============================] - 0s 141us/sample - loss: 0.9199 - acc: 0.5927 - val_loss: 0.8963 - val_acc: 0.6112\n",
            "Epoch 5/30\n",
            "1780/1780 [==============================] - 0s 140us/sample - loss: 0.7839 - acc: 0.6730 - val_loss: 0.7958 - val_acc: 0.6315\n",
            "Epoch 6/30\n",
            "1780/1780 [==============================] - 0s 135us/sample - loss: 0.6738 - acc: 0.7292 - val_loss: 0.7519 - val_acc: 0.7101\n",
            "Epoch 7/30\n",
            "1780/1780 [==============================] - 0s 140us/sample - loss: 0.5852 - acc: 0.8096 - val_loss: 0.7029 - val_acc: 0.7236\n",
            "Epoch 8/30\n",
            "1780/1780 [==============================] - 0s 141us/sample - loss: 0.5142 - acc: 0.8213 - val_loss: 0.6578 - val_acc: 0.7573\n",
            "Epoch 9/30\n",
            "1780/1780 [==============================] - 0s 140us/sample - loss: 0.4368 - acc: 0.8551 - val_loss: 0.6242 - val_acc: 0.7685\n",
            "Epoch 10/30\n",
            "1780/1780 [==============================] - 0s 136us/sample - loss: 0.3731 - acc: 0.8792 - val_loss: 0.6272 - val_acc: 0.7910\n",
            "Epoch 11/30\n",
            "1780/1780 [==============================] - 0s 136us/sample - loss: 0.3150 - acc: 0.9045 - val_loss: 0.5431 - val_acc: 0.8202\n",
            "Epoch 12/30\n",
            "1780/1780 [==============================] - 0s 142us/sample - loss: 0.2589 - acc: 0.9219 - val_loss: 0.5219 - val_acc: 0.8337\n",
            "Epoch 13/30\n",
            "1780/1780 [==============================] - 0s 136us/sample - loss: 0.2081 - acc: 0.9354 - val_loss: 0.4846 - val_acc: 0.8494\n",
            "Epoch 14/30\n",
            "1780/1780 [==============================] - 0s 140us/sample - loss: 0.1685 - acc: 0.9584 - val_loss: 0.4525 - val_acc: 0.8562\n",
            "Epoch 15/30\n",
            "1780/1780 [==============================] - 0s 140us/sample - loss: 0.1370 - acc: 0.9685 - val_loss: 0.4517 - val_acc: 0.8697\n",
            "Epoch 16/30\n",
            "1780/1780 [==============================] - 0s 145us/sample - loss: 0.1148 - acc: 0.9764 - val_loss: 0.4478 - val_acc: 0.8697\n",
            "Epoch 17/30\n",
            "1780/1780 [==============================] - 0s 139us/sample - loss: 0.0914 - acc: 0.9831 - val_loss: 0.4500 - val_acc: 0.8809\n",
            "Epoch 18/30\n",
            "1780/1780 [==============================] - 0s 138us/sample - loss: 0.0750 - acc: 0.9893 - val_loss: 0.4382 - val_acc: 0.8854\n",
            "Epoch 19/30\n",
            "1780/1780 [==============================] - 0s 136us/sample - loss: 0.0668 - acc: 0.9904 - val_loss: 0.4349 - val_acc: 0.8921\n",
            "Epoch 20/30\n",
            "1780/1780 [==============================] - 0s 142us/sample - loss: 0.0538 - acc: 0.9949 - val_loss: 0.4328 - val_acc: 0.8854\n",
            "Epoch 21/30\n",
            "1780/1780 [==============================] - 0s 137us/sample - loss: 0.0447 - acc: 0.9955 - val_loss: 0.4322 - val_acc: 0.8899\n",
            "Epoch 22/30\n",
            "1780/1780 [==============================] - 0s 136us/sample - loss: 0.0394 - acc: 0.9961 - val_loss: 0.4445 - val_acc: 0.9034\n",
            "Epoch 23/30\n",
            "1780/1780 [==============================] - 0s 135us/sample - loss: 0.0337 - acc: 0.9966 - val_loss: 0.4408 - val_acc: 0.8899\n",
            "Epoch 24/30\n",
            "1780/1780 [==============================] - 0s 144us/sample - loss: 0.0266 - acc: 0.9978 - val_loss: 0.4438 - val_acc: 0.8989\n",
            "Epoch 25/30\n",
            "1780/1780 [==============================] - 0s 144us/sample - loss: 0.0217 - acc: 0.9983 - val_loss: 0.4458 - val_acc: 0.9034\n",
            "Epoch 26/30\n",
            "1780/1780 [==============================] - 0s 138us/sample - loss: 0.0183 - acc: 0.9989 - val_loss: 0.4542 - val_acc: 0.9034\n",
            "Epoch 27/30\n",
            "1780/1780 [==============================] - 0s 140us/sample - loss: 0.0160 - acc: 0.9994 - val_loss: 0.4547 - val_acc: 0.9056\n",
            "Epoch 28/30\n",
            "1780/1780 [==============================] - 0s 142us/sample - loss: 0.0135 - acc: 0.9994 - val_loss: 0.4496 - val_acc: 0.8989\n",
            "Epoch 29/30\n",
            "1780/1780 [==============================] - 0s 132us/sample - loss: 0.0118 - acc: 0.9994 - val_loss: 0.4706 - val_acc: 0.9101\n",
            "Epoch 30/30\n",
            "1780/1780 [==============================] - 0s 131us/sample - loss: 0.0099 - acc: 0.9994 - val_loss: 0.4680 - val_acc: 0.9056\n"
          ],
          "name": "stdout"
        }
      ]
    },
    {
      "cell_type": "code",
      "metadata": {
        "id": "dQ0BX2apXS9u",
        "colab_type": "code",
        "outputId": "73f63ec7-57a6-41cd-b8b3-fba8b7b7559e",
        "colab": {
          "base_uri": "https://localhost:8080/",
          "height": 541
        }
      },
      "source": [
        "import matplotlib.pyplot as plt\n",
        "\n",
        "\n",
        "def plot_graphs(history, string):\n",
        "  plt.plot(history.history[string])\n",
        "  plt.plot(history.history['val_'+string])\n",
        "  plt.xlabel(\"Epochs\")\n",
        "  plt.ylabel(string)\n",
        "  plt.legend([string, 'val_'+string])\n",
        "  plt.show()\n",
        "  \n",
        "plot_graphs(history, \"acc\")\n",
        "plot_graphs(history, \"loss\")"
      ],
      "execution_count": 67,
      "outputs": [
        {
          "output_type": "display_data",
          "data": {
            "image/png": "[encoded data removed]",
            "text/plain": [
              "<Figure size 432x288 with 1 Axes>"
            ]
          },
          "metadata": {
            "tags": []
          }
        },
        {
          "output_type": "display_data",
          "data": {
            "image/png": "[encoded data removed]",
            "text/plain": [
              "<Figure size 432x288 with 1 Axes>"
            ]
          },
          "metadata": {
            "tags": []
          }
        }
      ]
    },
    {
      "cell_type": "code",
      "metadata": {
        "id": "w7Xc-uWxXhML",
        "colab_type": "code",
        "colab": {}
      },
      "source": [
        "reverse_word_index = dict([(value, key) for (key, value) in word_index.items()])\n",
        "\n",
        "def decode_sentence(text):\n",
        "    return ' '.join([reverse_word_index.get(i, '?') for i in text])\n"
      ],
      "execution_count": 0,
      "outputs": []
    },
    {
      "cell_type": "code",
      "metadata": {
        "id": "OhnFA_TDXrih",
        "colab_type": "code",
        "outputId": "511f8b04-9d33-45d9-e72e-098149697df7",
        "colab": {
          "base_uri": "https://localhost:8080/",
          "height": 35
        }
      },
      "source": [
        "e = model.layers[0]\n",
        "weights = e.get_weights()[0]\n",
        "print(weights.shape) # shape: (vocab_size, embedding_dim)\n",
        "\n",
        "# Expected output\n",
        "# (1000, 16)"
      ],
      "execution_count": 0,
      "outputs": [
        {
          "output_type": "stream",
          "text": [
            "(1000, 16)\n"
          ],
          "name": "stdout"
        }
      ]
    },
    {
      "cell_type": "code",
      "metadata": {
        "id": "_POzcWWAXudL",
        "colab_type": "code",
        "colab": {}
      },
      "source": [
        "import io\n",
        "\n",
        "out_v = io.open('vecs.tsv', 'w', encoding='utf-8')\n",
        "out_m = io.open('meta.tsv', 'w', encoding='utf-8')\n",
        "for word_num in range(1, vocab_size):\n",
        "  word = reverse_word_index[word_num]\n",
        "  embeddings = weights[word_num]\n",
        "  out_m.write(word + \"\\n\")\n",
        "  out_v.write('\\t'.join([str(x) for x in embeddings]) + \"\\n\")\n",
        "out_v.close()\n",
        "out_m.close()"
      ],
      "execution_count": 0,
      "outputs": []
    },
    {
      "cell_type": "code",
      "metadata": {
        "id": "VmqpQMZ_XyOa",
        "colab_type": "code",
        "colab": {}
      },
      "source": [
        "try:\n",
        "  from google.colab import files\n",
        "except ImportError:\n",
        "  pass\n",
        "else:\n",
        "  files.download('vecs.tsv')\n",
        "  files.download('meta.tsv')"
      ],
      "execution_count": 0,
      "outputs": []
    },
    {
      "cell_type": "code",
      "metadata": {
        "id": "J1dFSDiJDN12",
        "colab_type": "code",
        "colab": {}
      },
      "source": [
        "def get_predictions(sentences,model):\n",
        "    print(label_word_index)\n",
        "    sequence = tokenizer.texts_to_sequences(sentence)\n",
        "    # print(sequence)\n",
        "    pad = pad_sequences(sequence,maxlen=max_length,padding=padding_type,truncating=trunc_type)\n",
        "    # print(pad)\n",
        "    preds=model.predict(pad)\n",
        "    # print(predictions)\n",
        "    predictions=[]\n",
        "    pred_text=[]\n",
        "    for i in preds:\n",
        "      res=np.argmax(i)\n",
        "      predictions.append(res)\n",
        "      switcher = { \n",
        "        0: \"Not confident\", \n",
        "        1: \"Sport\", \n",
        "        2: \"Business\", \n",
        "        3: \"Politics\",\n",
        "        4: \"Tech\",\n",
        "        5: \"Entertainment\"\n",
        "      } \n",
        "      pred_text.append(switcher.get(res))\n",
        "    # i=0;\n",
        "    # pred_res=[]\n",
        "    # for pred in predictions:\n",
        "    #   switcher = { \n",
        "    #     0: \"Not confident\", \n",
        "    #     1: \"Sport\", \n",
        "    #     2: \"Business\", \n",
        "    #     3: \"Politics\",\n",
        "    #     4: \"Tech\",\n",
        "    #     5: \"Entertainment\"\n",
        "    #   } \n",
        "    #   print(switcher+\" ---> \"+sentences[i]) \n",
        "    #   pred_res.append(switcher)\n",
        "    #   i=i+1\n",
        "    return pred_text\n"
      ],
      "execution_count": 0,
      "outputs": []
    },
    {
      "cell_type": "code",
      "metadata": {
        "id": "xzVY7-h2ETb_",
        "colab_type": "code",
        "outputId": "0288feea-60ed-4075-8cb7-862a140c2791",
        "colab": {
          "base_uri": "https://localhost:8080/",
          "height": 35
        }
      },
      "source": [
        "sentence = [\"I beleive cricket in india must be improved so that sporting spirit may boost-up among younger generations and they'll start playing better and India will eventually get ethusiastic and good players with better team spirit.\",\n",
        "\"Unlike every other programming language we have used before, Python does not have a switch or case statement. To get around this fact, we use dictionary mapping.\"]\n",
        "preds=get_predictions(sentence,model)"
      ],
      "execution_count": 69,
      "outputs": [
        {
          "output_type": "stream",
          "text": [
            "{'sport': 1, 'business': 2, 'politics': 3, 'tech': 4, 'entertainment': 5}\n"
          ],
          "name": "stdout"
        }
      ]
    },
    {
      "cell_type": "code",
      "metadata": {
        "id": "FKTG4Ft2Eczy",
        "colab_type": "code",
        "outputId": "9dc7fec1-22a3-431a-f5ee-1e9e10ebe60f",
        "colab": {
          "base_uri": "https://localhost:8080/",
          "height": 35
        }
      },
      "source": [
        "preds"
      ],
      "execution_count": 70,
      "outputs": [
        {
          "output_type": "execute_result",
          "data": {
            "text/plain": [
              "['Sport', 'Business']"
            ]
          },
          "metadata": {
            "tags": []
          },
          "execution_count": 70
        }
      ]
    },
    {
      "cell_type": "code",
      "metadata": {
        "id": "3_2n39qnFC6j",
        "colab_type": "code",
        "colab": {}
      },
      "source": [
        ""
      ],
      "execution_count": 0,
      "outputs": []
    }
  ]
}